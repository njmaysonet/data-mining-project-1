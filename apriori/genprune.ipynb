{
 "cells": [
  {
   "cell_type": "code",
   "execution_count": 1,
   "metadata": {},
   "outputs": [],
   "source": [
    "#Candidate generation and pruning, python >3.7 req, 3.9.0 used\n",
    "#Please have the 'playlists4000.txt' file in the same directory as this notebook.\n",
    "\n",
    "import pandas as pd\n",
    "import numpy as np\n",
    "\n",
    "#Minimum support threshold\n",
    "minsup = 50\n",
    "\n",
    "#File Operations\n",
    "fd = open(\"playlists4000.txt\",mode='r',encoding='utf8',newline='\\n')\n",
    "raw = fd.read().splitlines()\n",
    "\n",
    "#Create 1-itemset support count dictionary\n",
    "counts = dict()\n",
    "for line in raw:\n",
    "    first, second = line.split(sep=\"::\")\n",
    "    x = counts.setdefault(second,0)\n",
    "    counts[second] = x+1\n",
    "\n",
    "#Create transaction dictionary\n",
    "transactions = dict()\n",
    "\n",
    "for line in raw:\n",
    "    first, second = line.split(sep=\"::\")\n",
    "    transactions.setdefault(first, []).append(second)"
   ]
  },
  {
   "cell_type": "code",
   "execution_count": 3,
   "metadata": {},
   "outputs": [],
   "source": [
    "#Generate frequent 1-itemsets\n",
    "countscopy = counts.copy()\n",
    "\n",
    "for x in countscopy.keys():\n",
    "    if counts[x] < minsup:\n",
    "        counts.pop(x)"
   ]
  },
  {
   "cell_type": "code",
   "execution_count": 10,
   "metadata": {},
   "outputs": [],
   "source": [
    "import itertools\n",
    "\n",
    "def candidate_gen_prune(items,k):\n",
    "    #We are generating candidates based on F_k-1 X F_k-1 method.\n",
    "    #Freq 1-itemsets are assumed to have been generated from filtering\n",
    "    #initial support count dictionary based on minsup criterion.\n",
    "\n",
    "    #Step 1: Candidate Generation\n",
    "    gens = []\n",
    "    for x in items:\n",
    "        for y in items:\n",
    "            gen = []\n",
    "            #If generating 3-itemsets or more.\n",
    "            if(k-2 > 0 and x[0:(k-2)] == y[0:(k-2)]):\n",
    "                #List concatenation with iterable unpacking.\n",
    "                gen = [*x[0:k],*y[(k-1):]]\n",
    "            #If generating 2-itemsets.\n",
    "            else:\n",
    "                gen = [x,y]\n",
    "            gens.append(gen)\n",
    "\n",
    "    #Step 2: Candidate Pruning\n",
    "    #Case if building 2-itemsets from 1-itemsets, every 1-itemset\n",
    "    #is already frequent so we don't need to prune\n",
    "    if(k < 3):\n",
    "        return gens\n",
    "    #Iterate over candidates.\n",
    "    for s in gens:\n",
    "        #Generate all subsets of length k-1 of each candidate.\n",
    "        subsets = [list(l) for l in itertools.combinations(s,k)]\n",
    "        for x in subsets:\n",
    "            if(x not in items):\n",
    "                gens.pop(s)\n",
    "                break\n",
    "    \n",
    "    return gens"
   ]
  },
  {
   "cell_type": "code",
   "execution_count": 5,
   "metadata": {},
   "outputs": [],
   "source": [
    "def support_counting(transactions: dict, counts: dict, k):\n",
    "    for x in transactions.values():\n",
    "        subsets = list(itertools.combinations(x,k))\n",
    "        for y in counts:\n",
    "            if( y in subsets ):\n",
    "                counts[y] +=1\n",
    "    \n",
    "    return counts"
   ]
  },
  {
   "cell_type": "code",
   "execution_count": null,
   "metadata": {},
   "outputs": [],
   "source": [
    "#Apriori Loop\n",
    "k = 1\n",
    "while(counts):\n",
    "    k += 1\n",
    "    cands = candidate_gen_prune(counts.keys(),k)\n",
    "    counts = support_counting(transactions,counts,k)\n",
    "    copy = counts.copy()\n",
    "    keys = copy.keys()\n",
    "    for x in keys:\n",
    "        if counts[x] < minsup:\n",
    "            counts.pop(x)"
   ]
  }
 ],
 "metadata": {
  "interpreter": {
   "hash": "72b85386bb70c73d583304b77bf343b8ae28fafa227bccfdb99caed8a25c4bce"
  },
  "kernelspec": {
   "display_name": "Python 3.9.0 64-bit",
   "language": "python",
   "name": "python3"
  },
  "language_info": {
   "codemirror_mode": {
    "name": "ipython",
    "version": 3
   },
   "file_extension": ".py",
   "mimetype": "text/x-python",
   "name": "python",
   "nbconvert_exporter": "python",
   "pygments_lexer": "ipython3",
   "version": "3.9.0"
  },
  "orig_nbformat": 4
 },
 "nbformat": 4,
 "nbformat_minor": 2
}
