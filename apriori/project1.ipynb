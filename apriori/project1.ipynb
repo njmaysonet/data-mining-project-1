{
 "cells": [
  {
   "cell_type": "markdown",
   "metadata": {},
   "source": [
    "#Project 1 - Report 1 code"
   ]
  },
  {
   "cell_type": "code",
   "execution_count": 75,
   "metadata": {},
   "outputs": [],
   "source": [
    "#Please have the 'playlists4000.txt' file in the same directory as this notebook.\n",
    "\n",
    "fd = open(\"playlists4000.txt\",mode='r',encoding='utf8',newline='\\n')\n",
    "\n",
    "raw = fd.read().splitlines()\n",
    "\n",
    "hashtable = dict()\n",
    "\n",
    "for line in raw:\n",
    "    first, second = line.split(sep=\"::\")\n",
    "    hashtable.setdefault(first, []).append(second)"
   ]
  },
  {
   "cell_type": "code",
   "execution_count": 76,
   "metadata": {},
   "outputs": [
    {
     "data": {
      "text/plain": [
       "55994"
      ]
     },
     "execution_count": 76,
     "metadata": {},
     "output_type": "execute_result"
    }
   ],
   "source": [
    "#Number of items\n",
    "items = 0\n",
    "for x in hashtable.values():\n",
    "    items += len(x)\n",
    "items"
   ]
  },
  {
   "cell_type": "code",
   "execution_count": 77,
   "metadata": {},
   "outputs": [
    {
     "data": {
      "text/plain": [
       "4000"
      ]
     },
     "execution_count": 77,
     "metadata": {},
     "output_type": "execute_result"
    }
   ],
   "source": [
    "#Number of transactions\n",
    "len(hashtable.keys())"
   ]
  },
  {
   "cell_type": "code",
   "execution_count": 78,
   "metadata": {},
   "outputs": [
    {
     "data": {
      "text/plain": [
       "110"
      ]
     },
     "execution_count": 78,
     "metadata": {},
     "output_type": "execute_result"
    }
   ],
   "source": [
    "#Longest transaction\n",
    "longest = 0\n",
    "for x in hashtable.values():\n",
    "    if (len(x) > longest):\n",
    "        longest = len(x)\n",
    "\n",
    "longest"
   ]
  },
  {
   "cell_type": "code",
   "execution_count": 79,
   "metadata": {},
   "outputs": [
    {
     "data": {
      "text/plain": [
       "1"
      ]
     },
     "execution_count": 79,
     "metadata": {},
     "output_type": "execute_result"
    }
   ],
   "source": [
    "#Shortest transaction\n",
    "shortest = longest\n",
    "for x in hashtable.values():\n",
    "    if(len(x) < shortest):\n",
    "        shortest = len(x)\n",
    "shortest"
   ]
  },
  {
   "cell_type": "code",
   "execution_count": 80,
   "metadata": {},
   "outputs": [],
   "source": [
    "#Support counting\n",
    "\n",
    "#Dictionary of 1-itemsets with support count\n",
    "\n",
    "counts = dict()\n",
    "\n",
    "for line in raw:\n",
    "    first, second = line.split(sep=\"::\")\n",
    "    x = counts.setdefault(second,0)\n",
    "    counts[second] = x+1"
   ]
  },
  {
   "cell_type": "code",
   "execution_count": 81,
   "metadata": {},
   "outputs": [
    {
     "data": {
      "text/plain": [
       "455"
      ]
     },
     "execution_count": 81,
     "metadata": {},
     "output_type": "execute_result"
    }
   ],
   "source": [
    "#Number of frequent 1-itemsets with support count threshold 400\n",
    "freq = 0\n",
    "\n",
    "for x in counts:\n",
    "    if counts[x] > 40:\n",
    "        freq += 1\n",
    "\n",
    "freq"
   ]
  },
  {
   "cell_type": "code",
   "execution_count": 92,
   "metadata": {},
   "outputs": [],
   "source": [
    "# minsup, minconf = 5, 0.5\n",
    "minsup, minconf = 30, 0.7\n",
    "# minsup, minconf = 60, 0.5\n",
    "# minsup, minconf = 60, 0.5"
   ]
  },
  {
   "cell_type": "code",
   "execution_count": 93,
   "metadata": {},
   "outputs": [
    {
     "ename": "NameError",
     "evalue": "name 'li' is not defined",
     "output_type": "error",
     "traceback": [
      "\u001b[1;31m---------------------------------------------------------------------------\u001b[0m",
      "\u001b[1;31mNameError\u001b[0m                                 Traceback (most recent call last)",
      "\u001b[1;32m~\\AppData\\Local\\Temp/ipykernel_36820/788098560.py\u001b[0m in \u001b[0;36m<module>\u001b[1;34m\u001b[0m\n\u001b[0;32m     48\u001b[0m                 \u001b[1;32mif\u001b[0m \u001b[0mfp\u001b[0m\u001b[1;33m[\u001b[0m\u001b[0mi\u001b[0m\u001b[1;33m]\u001b[0m\u001b[1;33m[\u001b[0m\u001b[0mj\u001b[0m\u001b[1;33m]\u001b[0m\u001b[1;33m[\u001b[0m\u001b[0mk\u001b[0m\u001b[1;33m]\u001b[0m\u001b[1;33m[\u001b[0m\u001b[1;34m\"count\"\u001b[0m\u001b[1;33m]\u001b[0m \u001b[1;33m<\u001b[0m \u001b[0mminsup\u001b[0m\u001b[1;33m:\u001b[0m\u001b[1;33m\u001b[0m\u001b[1;33m\u001b[0m\u001b[0m\n\u001b[0;32m     49\u001b[0m                     \u001b[1;32mcontinue\u001b[0m\u001b[1;33m\u001b[0m\u001b[1;33m\u001b[0m\u001b[0m\n\u001b[1;32m---> 50\u001b[1;33m                 \u001b[1;32mfor\u001b[0m \u001b[0mli\u001b[0m \u001b[1;32min\u001b[0m \u001b[0mrange\u001b[0m\u001b[1;33m(\u001b[0m\u001b[0mli\u001b[0m\u001b[1;33m+\u001b[0m\u001b[1;36m1\u001b[0m\u001b[1;33m,\u001b[0m \u001b[0mlen\u001b[0m\u001b[1;33m(\u001b[0m\u001b[0mt\u001b[0m\u001b[1;33m)\u001b[0m\u001b[1;33m)\u001b[0m\u001b[1;33m:\u001b[0m\u001b[1;33m\u001b[0m\u001b[1;33m\u001b[0m\u001b[0m\n\u001b[0m\u001b[0;32m     51\u001b[0m                     \u001b[0ml\u001b[0m \u001b[1;33m=\u001b[0m \u001b[0mint\u001b[0m\u001b[1;33m(\u001b[0m\u001b[0mt\u001b[0m\u001b[1;33m[\u001b[0m\u001b[0mli\u001b[0m\u001b[1;33m]\u001b[0m\u001b[1;33m)\u001b[0m\u001b[1;33m\u001b[0m\u001b[1;33m\u001b[0m\u001b[0m\n\u001b[0;32m     52\u001b[0m                     \u001b[0mfp\u001b[0m\u001b[1;33m[\u001b[0m\u001b[0mi\u001b[0m\u001b[1;33m]\u001b[0m\u001b[1;33m[\u001b[0m\u001b[0mj\u001b[0m\u001b[1;33m]\u001b[0m\u001b[1;33m[\u001b[0m\u001b[0mk\u001b[0m\u001b[1;33m]\u001b[0m\u001b[1;33m[\u001b[0m\u001b[0ml\u001b[0m\u001b[1;33m]\u001b[0m \u001b[1;33m=\u001b[0m \u001b[0mfp\u001b[0m\u001b[1;33m[\u001b[0m\u001b[0mi\u001b[0m\u001b[1;33m]\u001b[0m\u001b[1;33m[\u001b[0m\u001b[0mj\u001b[0m\u001b[1;33m]\u001b[0m\u001b[1;33m[\u001b[0m\u001b[0mk\u001b[0m\u001b[1;33m]\u001b[0m\u001b[1;33m.\u001b[0m\u001b[0mget\u001b[0m\u001b[1;33m(\u001b[0m\u001b[0ml\u001b[0m\u001b[1;33m,\u001b[0m \u001b[0mOrderedDict\u001b[0m\u001b[1;33m(\u001b[0m\u001b[1;33m)\u001b[0m\u001b[1;33m)\u001b[0m\u001b[1;33m\u001b[0m\u001b[1;33m\u001b[0m\u001b[0m\n",
      "\u001b[1;31mNameError\u001b[0m: name 'li' is not defined"
     ]
    }
   ],
   "source": [
    "# FP-Tree of 4-itemsets with support count\n",
    "from collections import OrderedDict\n",
    "fp = OrderedDict()\n",
    "\n",
    "ncounts = dict()\n",
    "\n",
    "for t in hashtable.values():\n",
    "    for ii in range(len(t)):\n",
    "        i = int(t[ii])\n",
    "        fp[i] = fp.get(i, OrderedDict())\n",
    "        fp[i][\"count\"] = fp[i].get(\"count\", 0) + 1\n",
    "\n",
    "for t in hashtable.values():\n",
    "    for ii in range(len(t)):\n",
    "        i = int(t[ii])\n",
    "        if fp[i][\"count\"] < minsup:\n",
    "            continue\n",
    "        for ji in range(ii+1, len(t)):\n",
    "            j = int(t[ji])\n",
    "            fp[i][j] = fp[i].get(j, OrderedDict())\n",
    "            fp[i][j][\"count\"] = fp[i][j].get(\"count\", 0) + 1\n",
    "            \n",
    "for t in hashtable.values():\n",
    "    for ii in range(len(t)):\n",
    "        i = int(t[ii])\n",
    "        if fp[i][\"count\"] < minsup:\n",
    "            continue\n",
    "        for ji in range(ii+1, len(t)):\n",
    "            j = int(t[ji])\n",
    "            if fp[i][j][\"count\"] < minsup:\n",
    "                continue\n",
    "            for ki in range(ji+1, len(t)):\n",
    "                k = int(t[ki])\n",
    "                fp[i][j][k] = fp[i][j].get(k, OrderedDict())\n",
    "                fp[i][j][k][\"count\"] = fp[i][j][k].get(\"count\", 0) + 1\n",
    "\n",
    "for t in hashtable.values():\n",
    "    for ii in range(len(t)):\n",
    "        i = int(t[ii])\n",
    "        if fp[i][\"count\"] < minsup:\n",
    "            continue\n",
    "        for ji in range(ii+1, len(t)):\n",
    "            j = int(t[ji])\n",
    "            if fp[i][j][\"count\"] < minsup:\n",
    "                continue\n",
    "            for ki in range(ji+1, len(t)):\n",
    "                k = int(t[ki])\n",
    "                if fp[i][j][k][\"count\"] < minsup:\n",
    "                    continue\n",
    "                for li in range(ki+1, len(t)):\n",
    "                    l = int(t[li])\n",
    "                    fp[i][j][k][l] = fp[i][j][k].get(l, OrderedDict())\n",
    "                    fp[i][j][k][l][\"count\"] = fp[i][j][k][l].get(\"count\", 0) + 1\n",
    "                \n",
    "ctr = 0\n",
    "for k, v in fp.items():\n",
    "    ctr += v[\"count\"]\n",
    "fp[\"count\"] = ctr\n"
   ]
  },
  {
   "cell_type": "code",
   "execution_count": 84,
   "metadata": {},
   "outputs": [
    {
     "name": "stdout",
     "output_type": "stream",
     "text": [
      "55994\n"
     ]
    }
   ],
   "source": [
    "print(fp[\"count\"])"
   ]
  },
  {
   "cell_type": "code",
   "execution_count": 85,
   "metadata": {},
   "outputs": [],
   "source": [
    "# Support counting\n",
    "\n",
    "# Dictionary of 1-itemsets, 2-itemsets, and 3-itemsets with support count\n",
    "\n",
    "ncounts = dict()\n",
    "ncounts[1] = OrderedDict()\n",
    "ncounts[2] = OrderedDict()\n",
    "ncounts[3] = OrderedDict()\n",
    "ncounts[4] = OrderedDict()\n",
    "\n",
    "def dfs(node, s, len=0):\n",
    "    if node[\"count\"] < minsup:\n",
    "        return\n",
    "    if len >= 1:\n",
    "        itemset = tuple(sorted(s))\n",
    "        ncounts[len][itemset] = node[\"count\"]\n",
    "    if len == 4:\n",
    "        return\n",
    "    for k in node:\n",
    "        if k != \"count\":\n",
    "            dfs(node[k], s + [int(k)], len+1)\n",
    "\n",
    "dfs(fp, [])"
   ]
  },
  {
   "cell_type": "code",
   "execution_count": 86,
   "metadata": {},
   "outputs": [],
   "source": [
    "# Rule generation for 2-itemsets with minsup a and minconf b\n",
    "rules = dict()\n",
    "rules[2] = dict()\n",
    "rules[3] = dict()\n",
    "rules[2][\"antecedent\"] = list()\n",
    "rules[2][\"consequent\"] = list()\n",
    "rules[2][\"support count\"] = list()\n",
    "rules[2][\"confidence\"] = list()\n",
    "\n",
    "\n",
    "for k, v in ncounts[2].items():\n",
    "    # print(\", \".join(list(map(str, list(k)))), end=\"\\t\")\n",
    "    # print(\"count: \", str(v))\n",
    "    f, s = k\n",
    "    n, d = v, ncounts[1][tuple([f])]\n",
    "    conf = n / d\n",
    "    if conf >= minconf:\n",
    "        rules[2][\"antecedent\"].append(f)\n",
    "        rules[2][\"consequent\"].append(s)\n",
    "        rules[2][\"support count\"].append(n)\n",
    "        rules[2][\"confidence\"].append(round(conf, 4))\n",
    "        # rules[2][f\"{f} -> {s}\"] =  [round(conf, 4), n]\n",
    "    d = ncounts[1][tuple([s])]\n",
    "    conf = n / d\n",
    "    if conf >= minconf:\n",
    "        rules[2][\"antecedent\"].append(f)\n",
    "        rules[2][\"consequent\"].append(s)\n",
    "        rules[2][\"support count\"].append(n)\n",
    "        rules[2][\"confidence\"].append(round(conf, 4))\n",
    "        # rules[2][f\"{f} -> {s}\"] = [round(conf, 4), n]\n",
    "\n",
    "# for k, v in rules[2].items():\n",
    "#     print(k, end=\"\\t\\t\")\n",
    "#     print(\"support count: \", str(v[1]), end=\"\\t\\t\")\n",
    "#     print(\"confidence: \", str(v[0])) "
   ]
  },
  {
   "cell_type": "code",
   "execution_count": 87,
   "metadata": {},
   "outputs": [],
   "source": [
    "# Rule generation for 3-itemsets with minsup a and minconf b\n",
    "rules[3][\"antecedent\"] = list()\n",
    "rules[3][\"consequent\"] = list()\n",
    "rules[3][\"support count\"] = list()\n",
    "rules[3][\"confidence\"] = list()\n",
    "seen = set()\n",
    "\n",
    "def arrange2(three: tuple, prevant: tuple):\n",
    "    f, m, e = three\n",
    "    pf, ps = prevant\n",
    "    diff = list(set([f, m, e]).difference(set([pf, ps])))[0]\n",
    "    ant, cons =  tuple([pf]), tuple(sorted([ps, diff]))\n",
    "    n, d = ncounts[3][three], ncounts[1][ant]\n",
    "    conf = n / d\n",
    "    sant = \", \".join(list(map(str, list(ant))))\n",
    "    scons = \", \".join(list(map(str, list(cons))))\n",
    "    rulestr = f\"{sant}\\t--->\\t{scons}\"\n",
    "    if conf >= minconf and rulestr not in seen:\n",
    "        seen.add(rulestr)\n",
    "        rules[3][\"antecedent\"].append(sant)\n",
    "        rules[3][\"consequent\"].append(scons)\n",
    "        rules[3][\"support count\"].append(n)\n",
    "        rules[3][\"confidence\"].append(conf)\n",
    "        # rules[3][rulestr] = [round(conf, 4), n]\n",
    "    ant, cons =  tuple([ps]), tuple(sorted([pf, diff]))\n",
    "    n, d = ncounts[3][three], ncounts[1][ant]\n",
    "    conf = n / d\n",
    "    sant = \", \".join(list(map(str, list(ant))))\n",
    "    scons = \", \".join(list(map(str, list(cons))))\n",
    "    rulestr = f\"{sant}\\t--->\\t{scons}\"\n",
    "    if conf >= minconf and rulestr not in rules[3]:\n",
    "        seen.add(rulestr)\n",
    "        rules[3][\"antecedent\"].append(sant)\n",
    "        rules[3][\"consequent\"].append(scons)\n",
    "        rules[3][\"support count\"].append(n)\n",
    "        rules[3][\"confidence\"].append(conf)\n",
    "        # rules[3][rulestr] = [round(conf, 4), n]\n",
    "    \n",
    "\n",
    "def arrange(three: tuple):\n",
    "    f, m, e = three\n",
    "    ant = tuple(sorted([m, e]))\n",
    "    cons  = tuple([f])\n",
    "    n, d = ncounts[3][three], ncounts[2][ant]\n",
    "    conf = n / d\n",
    "    if conf >= minconf:\n",
    "        sant = \", \".join(list(map(str, list(ant))))\n",
    "        scons = \", \".join(list(map(str, list(cons))))\n",
    "        rules[3][\"antecedent\"].append(sant)\n",
    "        rules[3][\"consequent\"].append(scons)\n",
    "        rules[3][\"support count\"].append(n)\n",
    "        rules[3][\"confidence\"].append(conf)\n",
    "        rules[3][f\"{sant}\\t--->\\t{scons}\"] = [round(conf, 4), n]\n",
    "        arrange2(three, ant)\n",
    "    ant, cons = tuple(sorted([f, e])), tuple([m])\n",
    "    n, d = ncounts[3][three], ncounts[2][ant]\n",
    "    conf = n / d\n",
    "    if conf >= minconf:\n",
    "        sant = \", \".join(list(map(str, list(ant))))\n",
    "        scons = \", \".join(list(map(str, list(cons))))\n",
    "        rules[3][\"antecedent\"].append(sant)\n",
    "        rules[3][\"consequent\"].append(scons)\n",
    "        rules[3][\"support count\"].append(n)\n",
    "        rules[3][\"confidence\"].append(conf)\n",
    "        # rules[3][f\"{sant}\\t--->\\t{scons}\"] = [round(conf, 4), n]\n",
    "        arrange2(three, ant)\n",
    "    ant, cons = tuple(sorted([f, m])), tuple([e])\n",
    "    n, d = ncounts[3][three], ncounts[2][ant]\n",
    "    conf = n / d\n",
    "    if conf >= minconf:\n",
    "        sant = \", \".join(list(map(str, list(ant))))\n",
    "        scons = \", \".join(list(map(str, list(cons))))\n",
    "        rules[3][\"antecedent\"].append(sant)\n",
    "        rules[3][\"consequent\"].append(scons)\n",
    "        rules[3][\"support count\"].append(n)\n",
    "        rules[3][\"confidence\"].append(conf)\n",
    "        # rules[3][f\"{sant}\\t--->\\t{scons}\"] = [round(conf, 4), n]\n",
    "        arrange2(three, ant)\n",
    "    \n",
    "    \n",
    "for k, v in ncounts[3].items(): \n",
    "    arrange(k)\n",
    "\n",
    "# for k, v in rules[3].items():\n",
    "#     print(k, end=\"\\t\\t\")\n",
    "#     print(\"support count: \", str(v[1]), end=\"\\t\\t\")\n",
    "#     print(\"confidence: \", str(v[0]))   "
   ]
  },
  {
   "cell_type": "code",
   "execution_count": 88,
   "metadata": {},
   "outputs": [],
   "source": [
    "#Dataframe for 2-itemset rules\n",
    "import pandas as pd\n",
    "\n",
    "two_itemset_rules = pd.DataFrame(rules[2])"
   ]
  },
  {
   "cell_type": "code",
   "execution_count": 89,
   "metadata": {},
   "outputs": [
    {
     "data": {
      "text/html": [
       "<div>\n",
       "<style scoped>\n",
       "    .dataframe tbody tr th:only-of-type {\n",
       "        vertical-align: middle;\n",
       "    }\n",
       "\n",
       "    .dataframe tbody tr th {\n",
       "        vertical-align: top;\n",
       "    }\n",
       "\n",
       "    .dataframe thead th {\n",
       "        text-align: right;\n",
       "    }\n",
       "</style>\n",
       "<table border=\"1\" class=\"dataframe\">\n",
       "  <thead>\n",
       "    <tr style=\"text-align: right;\">\n",
       "      <th></th>\n",
       "      <th>antecedent</th>\n",
       "      <th>consequent</th>\n",
       "      <th>support count</th>\n",
       "      <th>confidence</th>\n",
       "    </tr>\n",
       "  </thead>\n",
       "  <tbody>\n",
       "    <tr>\n",
       "      <th>0</th>\n",
       "      <td>27</td>\n",
       "      <td>167</td>\n",
       "      <td>68</td>\n",
       "      <td>0.5271</td>\n",
       "    </tr>\n",
       "    <tr>\n",
       "      <th>1</th>\n",
       "      <td>27</td>\n",
       "      <td>297</td>\n",
       "      <td>65</td>\n",
       "      <td>0.5039</td>\n",
       "    </tr>\n",
       "    <tr>\n",
       "      <th>2</th>\n",
       "      <td>37</td>\n",
       "      <td>49</td>\n",
       "      <td>75</td>\n",
       "      <td>0.5068</td>\n",
       "    </tr>\n",
       "    <tr>\n",
       "      <th>3</th>\n",
       "      <td>51</td>\n",
       "      <td>804</td>\n",
       "      <td>61</td>\n",
       "      <td>0.5922</td>\n",
       "    </tr>\n",
       "    <tr>\n",
       "      <th>4</th>\n",
       "      <td>51</td>\n",
       "      <td>804</td>\n",
       "      <td>61</td>\n",
       "      <td>0.6778</td>\n",
       "    </tr>\n",
       "  </tbody>\n",
       "</table>\n",
       "</div>"
      ],
      "text/plain": [
       "   antecedent  consequent  support count  confidence\n",
       "0          27         167             68      0.5271\n",
       "1          27         297             65      0.5039\n",
       "2          37          49             75      0.5068\n",
       "3          51         804             61      0.5922\n",
       "4          51         804             61      0.6778"
      ]
     },
     "execution_count": 89,
     "metadata": {},
     "output_type": "execute_result"
    }
   ],
   "source": [
    "two_itemset_rules.head()"
   ]
  },
  {
   "cell_type": "code",
   "execution_count": 90,
   "metadata": {},
   "outputs": [],
   "source": [
    "#Dataframe for 3-itemset rules\n",
    "import pandas as pd\n",
    "\n",
    "three_itemset_rules = pd.DataFrame(rules[3])"
   ]
  },
  {
   "cell_type": "code",
   "execution_count": 91,
   "metadata": {},
   "outputs": [
    {
     "data": {
      "text/html": [
       "<div>\n",
       "<style scoped>\n",
       "    .dataframe tbody tr th:only-of-type {\n",
       "        vertical-align: middle;\n",
       "    }\n",
       "\n",
       "    .dataframe tbody tr th {\n",
       "        vertical-align: top;\n",
       "    }\n",
       "\n",
       "    .dataframe thead th {\n",
       "        text-align: right;\n",
       "    }\n",
       "</style>\n",
       "<table border=\"1\" class=\"dataframe\">\n",
       "  <thead>\n",
       "    <tr style=\"text-align: right;\">\n",
       "      <th></th>\n",
       "      <th>antecedent</th>\n",
       "      <th>consequent</th>\n",
       "      <th>support count</th>\n",
       "      <th>confidence</th>\n",
       "    </tr>\n",
       "  </thead>\n",
       "  <tbody>\n",
       "  </tbody>\n",
       "</table>\n",
       "</div>"
      ],
      "text/plain": [
       "Empty DataFrame\n",
       "Columns: [antecedent, consequent, support count, confidence]\n",
       "Index: []"
      ]
     },
     "execution_count": 91,
     "metadata": {},
     "output_type": "execute_result"
    }
   ],
   "source": [
    "three_itemset_rules.head()"
   ]
  },
  {
   "cell_type": "markdown",
   "metadata": {},
   "source": [
    "Turns out there are no 1-temsets with a support of 400"
   ]
  },
  {
   "cell_type": "code",
   "execution_count": 70,
   "metadata": {},
   "outputs": [
    {
     "data": {
      "text/plain": [
       "194"
      ]
     },
     "execution_count": 70,
     "metadata": {},
     "output_type": "execute_result"
    }
   ],
   "source": [
    "#Highest support for a 1-itemset\n",
    "max(counts.values())"
   ]
  },
  {
   "cell_type": "code",
   "execution_count": 71,
   "metadata": {},
   "outputs": [
    {
     "data": {
      "text/html": [
       "<div>\n",
       "<style scoped>\n",
       "    .dataframe tbody tr th:only-of-type {\n",
       "        vertical-align: middle;\n",
       "    }\n",
       "\n",
       "    .dataframe tbody tr th {\n",
       "        vertical-align: top;\n",
       "    }\n",
       "\n",
       "    .dataframe thead th {\n",
       "        text-align: right;\n",
       "    }\n",
       "</style>\n",
       "<table border=\"1\" class=\"dataframe\">\n",
       "  <thead>\n",
       "    <tr style=\"text-align: right;\">\n",
       "      <th></th>\n",
       "      <th>support</th>\n",
       "    </tr>\n",
       "  </thead>\n",
       "  <tbody>\n",
       "    <tr>\n",
       "      <th>0</th>\n",
       "      <td>132</td>\n",
       "    </tr>\n",
       "    <tr>\n",
       "      <th>1</th>\n",
       "      <td>106</td>\n",
       "    </tr>\n",
       "    <tr>\n",
       "      <th>2</th>\n",
       "      <td>123</td>\n",
       "    </tr>\n",
       "    <tr>\n",
       "      <th>3</th>\n",
       "      <td>77</td>\n",
       "    </tr>\n",
       "    <tr>\n",
       "      <th>4</th>\n",
       "      <td>86</td>\n",
       "    </tr>\n",
       "  </tbody>\n",
       "</table>\n",
       "</div>"
      ],
      "text/plain": [
       "   support\n",
       "0      132\n",
       "1      106\n",
       "2      123\n",
       "3       77\n",
       "4       86"
      ]
     },
     "execution_count": 71,
     "metadata": {},
     "output_type": "execute_result"
    }
   ],
   "source": [
    "import pandas as pd\n",
    "\n",
    "df_counts = pd.DataFrame.from_dict(counts, orient='index')\n",
    "\n",
    "df_counts = df_counts.set_axis(['support'],axis=1)\n",
    "\n",
    "df_counts.head()"
   ]
  },
  {
   "cell_type": "code",
   "execution_count": 54,
   "metadata": {},
   "outputs": [
    {
     "data": {
      "text/html": [
       "<div>\n",
       "<style scoped>\n",
       "    .dataframe tbody tr th:only-of-type {\n",
       "        vertical-align: middle;\n",
       "    }\n",
       "\n",
       "    .dataframe tbody tr th {\n",
       "        vertical-align: top;\n",
       "    }\n",
       "\n",
       "    .dataframe thead th {\n",
       "        text-align: right;\n",
       "    }\n",
       "</style>\n",
       "<table border=\"1\" class=\"dataframe\">\n",
       "  <thead>\n",
       "    <tr style=\"text-align: right;\">\n",
       "      <th></th>\n",
       "      <th>Items</th>\n",
       "      <th>Support</th>\n",
       "    </tr>\n",
       "  </thead>\n",
       "  <tbody>\n",
       "    <tr>\n",
       "      <th>0</th>\n",
       "      <td>541</td>\n",
       "      <td>51</td>\n",
       "    </tr>\n",
       "    <tr>\n",
       "      <th>1</th>\n",
       "      <td>805</td>\n",
       "      <td>51</td>\n",
       "    </tr>\n",
       "    <tr>\n",
       "      <th>2</th>\n",
       "      <td>315</td>\n",
       "      <td>51</td>\n",
       "    </tr>\n",
       "    <tr>\n",
       "      <th>3</th>\n",
       "      <td>322</td>\n",
       "      <td>51</td>\n",
       "    </tr>\n",
       "    <tr>\n",
       "      <th>4</th>\n",
       "      <td>439</td>\n",
       "      <td>51</td>\n",
       "    </tr>\n",
       "    <tr>\n",
       "      <th>...</th>\n",
       "      <td>...</td>\n",
       "      <td>...</td>\n",
       "    </tr>\n",
       "    <tr>\n",
       "      <th>329</th>\n",
       "      <td>320</td>\n",
       "      <td>172</td>\n",
       "    </tr>\n",
       "    <tr>\n",
       "      <th>330</th>\n",
       "      <td>167</td>\n",
       "      <td>172</td>\n",
       "    </tr>\n",
       "    <tr>\n",
       "      <th>331</th>\n",
       "      <td>297</td>\n",
       "      <td>186</td>\n",
       "    </tr>\n",
       "    <tr>\n",
       "      <th>332</th>\n",
       "      <td>203</td>\n",
       "      <td>187</td>\n",
       "    </tr>\n",
       "    <tr>\n",
       "      <th>333</th>\n",
       "      <td>37</td>\n",
       "      <td>194</td>\n",
       "    </tr>\n",
       "  </tbody>\n",
       "</table>\n",
       "<p>334 rows × 2 columns</p>\n",
       "</div>"
      ],
      "text/plain": [
       "    Items  Support\n",
       "0     541       51\n",
       "1     805       51\n",
       "2     315       51\n",
       "3     322       51\n",
       "4     439       51\n",
       "..    ...      ...\n",
       "329   320      172\n",
       "330   167      172\n",
       "331   297      186\n",
       "332   203      187\n",
       "333    37      194\n",
       "\n",
       "[334 rows x 2 columns]"
      ]
     },
     "execution_count": 54,
     "metadata": {},
     "output_type": "execute_result"
    }
   ],
   "source": [
    "plot_df = df_counts.loc[df_counts['support'] > 50]\n",
    "\n",
    "plot_df = plot_df.sort_values(by=['support']).reset_index()\n",
    "\n",
    "plot_df = plot_df.rename(columns={'index' : 'Items','support':'Support'})\n",
    "\n",
    "plot_df"
   ]
  },
  {
   "cell_type": "code",
   "execution_count": 72,
   "metadata": {},
   "outputs": [
    {
     "ename": "ModuleNotFoundError",
     "evalue": "No module named 'matplotlib'",
     "output_type": "error",
     "traceback": [
      "\u001b[1;31m---------------------------------------------------------------------------\u001b[0m",
      "\u001b[1;31mModuleNotFoundError\u001b[0m                       Traceback (most recent call last)",
      "\u001b[1;32m~\\AppData\\Local\\Temp/ipykernel_36820/722085624.py\u001b[0m in \u001b[0;36m<module>\u001b[1;34m\u001b[0m\n\u001b[1;32m----> 1\u001b[1;33m \u001b[1;32mimport\u001b[0m \u001b[0mmatplotlib\u001b[0m\u001b[1;33m.\u001b[0m\u001b[0mpyplot\u001b[0m \u001b[1;32mas\u001b[0m \u001b[0mplt\u001b[0m\u001b[1;33m\u001b[0m\u001b[1;33m\u001b[0m\u001b[0m\n\u001b[0m\u001b[0;32m      2\u001b[0m \u001b[1;32mimport\u001b[0m \u001b[0mnumpy\u001b[0m \u001b[1;32mas\u001b[0m \u001b[0mnp\u001b[0m\u001b[1;33m\u001b[0m\u001b[1;33m\u001b[0m\u001b[0m\n\u001b[0;32m      3\u001b[0m \u001b[1;33m\u001b[0m\u001b[0m\n\u001b[0;32m      4\u001b[0m \u001b[0mplt\u001b[0m\u001b[1;33m.\u001b[0m\u001b[0mfigure\u001b[0m\u001b[1;33m(\u001b[0m\u001b[0mnum\u001b[0m\u001b[1;33m=\u001b[0m\u001b[1;36m1\u001b[0m\u001b[1;33m,\u001b[0m\u001b[0mfigsize\u001b[0m\u001b[1;33m=\u001b[0m\u001b[1;33m(\u001b[0m\u001b[1;36m20\u001b[0m\u001b[1;33m,\u001b[0m\u001b[1;36m15\u001b[0m\u001b[1;33m)\u001b[0m\u001b[1;33m,\u001b[0m \u001b[0mdpi\u001b[0m\u001b[1;33m=\u001b[0m\u001b[1;36m100\u001b[0m\u001b[1;33m)\u001b[0m\u001b[1;33m\u001b[0m\u001b[1;33m\u001b[0m\u001b[0m\n\u001b[0;32m      5\u001b[0m \u001b[0mplt\u001b[0m\u001b[1;33m.\u001b[0m\u001b[0mbar\u001b[0m\u001b[1;33m(\u001b[0m\u001b[0mplot_df\u001b[0m\u001b[1;33m[\u001b[0m\u001b[1;34m'Items'\u001b[0m\u001b[1;33m]\u001b[0m\u001b[1;33m,\u001b[0m \u001b[0mplot_df\u001b[0m\u001b[1;33m[\u001b[0m\u001b[1;34m'Support'\u001b[0m\u001b[1;33m]\u001b[0m\u001b[1;33m)\u001b[0m\u001b[1;33m\u001b[0m\u001b[1;33m\u001b[0m\u001b[0m\n",
      "\u001b[1;31mModuleNotFoundError\u001b[0m: No module named 'matplotlib'"
     ]
    }
   ],
   "source": [
    "import matplotlib.pyplot as plt\n",
    "import numpy as np\n",
    "\n",
    "plt.figure(num=1,figsize=(20,15), dpi=100)\n",
    "plt.bar(plot_df['Items'], plot_df['Support'])\n",
    "plt.xticks(np.arange(0, 333, 10))\n",
    "plt.xlabel('Item')\n",
    "plt.ylabel('Support')\n",
    "plt.title('Support counts in increasing order')\n",
    "plt.show()"
   ]
  },
  {
   "cell_type": "code",
   "execution_count": null,
   "metadata": {},
   "outputs": [],
   "source": []
  }
 ],
 "metadata": {
  "interpreter": {
   "hash": "72b85386bb70c73d583304b77bf343b8ae28fafa227bccfdb99caed8a25c4bce"
  },
  "kernelspec": {
   "display_name": "Python 3.9.0 64-bit",
   "language": "python",
   "name": "python3"
  },
  "language_info": {
   "codemirror_mode": {
    "name": "ipython",
    "version": 3
   },
   "file_extension": ".py",
   "mimetype": "text/x-python",
   "name": "python",
   "nbconvert_exporter": "python",
   "pygments_lexer": "ipython3",
   "version": "3.8.10"
  },
  "orig_nbformat": 4
 },
 "nbformat": 4,
 "nbformat_minor": 2
}
