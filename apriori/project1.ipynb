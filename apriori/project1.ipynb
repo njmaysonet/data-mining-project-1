{
 "cells": [
  {
   "cell_type": "markdown",
   "metadata": {},
   "source": [
    "#Project 1 - Report 1 code"
   ]
  },
  {
   "cell_type": "code",
   "execution_count": 9,
   "metadata": {},
   "outputs": [],
   "source": [
    "#Please have the 'playlists4000.txt' file in the same directory as this notebook.\n",
    "\n",
    "fd = open(\"playlists4000.txt\",mode='r',encoding='utf8',newline='\\n')\n",
    "\n",
    "raw = fd.read().splitlines()\n",
    "\n",
    "hashtable = dict()\n",
    "\n",
    "for line in raw:\n",
    "    first, second = line.split(sep=\"::\")\n",
    "    hashtable.setdefault(first, []).append(second)"
   ]
  },
  {
   "cell_type": "code",
   "execution_count": 10,
   "metadata": {},
   "outputs": [
    {
     "data": {
      "text/plain": [
       "55994"
      ]
     },
     "execution_count": 10,
     "metadata": {},
     "output_type": "execute_result"
    }
   ],
   "source": [
    "#Number of items\n",
    "items = 0\n",
    "for x in hashtable.values():\n",
    "    items += len(x)\n",
    "items"
   ]
  },
  {
   "cell_type": "code",
   "execution_count": 11,
   "metadata": {},
   "outputs": [
    {
     "data": {
      "text/plain": [
       "4000"
      ]
     },
     "execution_count": 11,
     "metadata": {},
     "output_type": "execute_result"
    }
   ],
   "source": [
    "#Number of transactions\n",
    "len(hashtable.keys())"
   ]
  },
  {
   "cell_type": "code",
   "execution_count": 12,
   "metadata": {},
   "outputs": [
    {
     "data": {
      "text/plain": [
       "110"
      ]
     },
     "execution_count": 12,
     "metadata": {},
     "output_type": "execute_result"
    }
   ],
   "source": [
    "#Longest transaction\n",
    "longest = 0\n",
    "for x in hashtable.values():\n",
    "    if (len(x) > longest):\n",
    "        longest = len(x)\n",
    "\n",
    "longest"
   ]
  },
  {
   "cell_type": "code",
   "execution_count": 13,
   "metadata": {},
   "outputs": [
    {
     "data": {
      "text/plain": [
       "1"
      ]
     },
     "execution_count": 13,
     "metadata": {},
     "output_type": "execute_result"
    }
   ],
   "source": [
    "#Shortest transaction\n",
    "shortest = longest\n",
    "for x in hashtable.values():\n",
    "    if(len(x) < shortest):\n",
    "        shortest = len(x)\n",
    "shortest"
   ]
  },
  {
   "cell_type": "code",
   "execution_count": 14,
   "metadata": {},
   "outputs": [],
   "source": [
    "#Support counting\n",
    "\n",
    "#Dictionary of 1-itemsets with support count\n",
    "\n",
    "counts = dict()\n",
    "\n",
    "for line in raw:\n",
    "    first, second = line.split(sep=\"::\")\n",
    "    x = counts.setdefault(second,0)\n",
    "    counts[second] = x+1"
   ]
  },
  {
   "cell_type": "code",
   "execution_count": 15,
   "metadata": {},
   "outputs": [
    {
     "data": {
      "text/plain": [
       "0"
      ]
     },
     "execution_count": 15,
     "metadata": {},
     "output_type": "execute_result"
    }
   ],
   "source": [
    "#Number of frequent 1-itemsets with support count threshold 400\n",
    "freq = 0\n",
    "\n",
    "for x in counts:\n",
    "    if(counts[x] > 400):\n",
    "        freq += 1\n",
    "\n",
    "freq"
   ]
  },
  {
   "cell_type": "markdown",
   "metadata": {},
   "source": [
    "Turns out there are no 1-temsets with a support of 400"
   ]
  }
 ],
 "metadata": {
  "interpreter": {
   "hash": "72b85386bb70c73d583304b77bf343b8ae28fafa227bccfdb99caed8a25c4bce"
  },
  "kernelspec": {
   "display_name": "Python 3.9.0 64-bit",
   "language": "python",
   "name": "python3"
  },
  "language_info": {
   "codemirror_mode": {
    "name": "ipython",
    "version": 3
   },
   "file_extension": ".py",
   "mimetype": "text/x-python",
   "name": "python",
   "nbconvert_exporter": "python",
   "pygments_lexer": "ipython3",
   "version": "3.9.0"
  },
  "orig_nbformat": 4
 },
 "nbformat": 4,
 "nbformat_minor": 2
}
