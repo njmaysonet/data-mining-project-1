{
 "cells": [
  {
   "cell_type": "markdown",
   "metadata": {},
   "source": [
    "#Project 1 - Report 1 code"
   ]
  },
  {
   "cell_type": "code",
   "execution_count": 1,
   "metadata": {},
   "outputs": [],
   "source": [
    "#Please have the 'playlists4000.txt' file in the same directory as this notebook.\n",
    "\n",
    "fd = open(\"playlists4000.txt\",mode='r',encoding='utf8',newline='\\n')\n",
    "\n",
    "raw = fd.read().splitlines()\n",
    "\n",
    "hashtable = dict()\n",
    "\n",
    "for line in raw:\n",
    "    first, second = line.split(sep=\"::\")\n",
    "    hashtable.setdefault(first, []).append(second)"
   ]
  },
  {
   "cell_type": "code",
   "execution_count": 2,
   "metadata": {},
   "outputs": [
    {
     "data": {
      "text/plain": [
       "55994"
      ]
     },
     "execution_count": 2,
     "metadata": {},
     "output_type": "execute_result"
    }
   ],
   "source": [
    "#Number of items\n",
    "items = 0\n",
    "for x in hashtable.values():\n",
    "    items += len(x)\n",
    "items"
   ]
  },
  {
   "cell_type": "code",
   "execution_count": 3,
   "metadata": {},
   "outputs": [
    {
     "data": {
      "text/plain": [
       "4000"
      ]
     },
     "execution_count": 3,
     "metadata": {},
     "output_type": "execute_result"
    }
   ],
   "source": [
    "#Number of transactions\n",
    "len(hashtable.keys())"
   ]
  },
  {
   "cell_type": "code",
   "execution_count": 4,
   "metadata": {},
   "outputs": [
    {
     "data": {
      "text/plain": [
       "110"
      ]
     },
     "execution_count": 4,
     "metadata": {},
     "output_type": "execute_result"
    }
   ],
   "source": [
    "#Longest transaction\n",
    "max = 0\n",
    "for x in hashtable.values():\n",
    "    if (len(x) > max):\n",
    "        max = len(x)\n",
    "\n",
    "max"
   ]
  },
  {
   "cell_type": "code",
   "execution_count": 5,
   "metadata": {},
   "outputs": [
    {
     "data": {
      "text/plain": [
       "1"
      ]
     },
     "execution_count": 5,
     "metadata": {},
     "output_type": "execute_result"
    }
   ],
   "source": [
    "#Shortest transaction\n",
    "min = max\n",
    "for x in hashtable.values():\n",
    "    if(len(x) < min):\n",
    "        min = len(x)\n",
    "min"
   ]
  },
  {
   "cell_type": "code",
   "execution_count": null,
   "metadata": {},
   "outputs": [],
   "source": [
    "\n",
    "        "
   ]
  }
 ],
 "metadata": {
  "interpreter": {
   "hash": "72b85386bb70c73d583304b77bf343b8ae28fafa227bccfdb99caed8a25c4bce"
  },
  "kernelspec": {
   "display_name": "Python 3.9.0 64-bit",
   "language": "python",
   "name": "python3"
  },
  "language_info": {
   "codemirror_mode": {
    "name": "ipython",
    "version": 3
   },
   "file_extension": ".py",
   "mimetype": "text/x-python",
   "name": "python",
   "nbconvert_exporter": "python",
   "pygments_lexer": "ipython3",
   "version": "3.9.0"
  },
  "orig_nbformat": 4
 },
 "nbformat": 4,
 "nbformat_minor": 2
}
